{
  "cells": [
    {
      "cell_type": "markdown",
      "metadata": {
        "id": "view-in-github",
        "colab_type": "text"
      },
      "source": [
        "<a href=\"https://colab.research.google.com/github/sseeiiffmohamed74/Heart-Disease-Prediction-using-Neural-Networks/blob/main/Heart_Disease_Prediction_using_Neural_Networks.ipynb\" target=\"_parent\"><img src=\"https://colab.research.google.com/assets/colab-badge.svg\" alt=\"Open In Colab\"/></a>"
      ]
    },
    {
      "metadata": {
        "id": "_LY4H_kJVbpA"
      },
      "cell_type": "markdown",
      "source": [
        "# Heart Disease Prediction using Neural Networks\n",
        "\n",
        "This project will focus on predicting heart disease using neural networks. Based on attributes such as blood pressure, cholestoral levels, heart rate, and other characteristic attributes, patients will be classified according to varying\n",
        "degrees of coronary artery disease. This project will utilize a dataset of 303 patients and distributed by the UCI Machine Learning Repository.\n",
        "\n",
        "Machine learning and artificial intelligence is going to have a dramatic impact on the health field; as a result, familiarizing yourself with the data processing techniques appropriate for numerical health data and the most widely used algorithms for classification tasks is an incredibly valuable use of your time! In this tutorial, we will do exactly that.\n",
        "\n",
        "We will be using some common Python libraries, such as pandas, numpy, and matplotlib. Furthermore, for the machine learning side of this project, we will be using sklearn and keras. Import these libraries using the cell below to ensure you have them correctly installed.\n",
        "\n",
        "\n",
        "\n",
        "### Steps Added\n",
        "\n",
        "* Stratified Train/Test-split in scikit-learn\n",
        "\n",
        "* Normalization\n",
        "\n",
        "    It would be problematic to feed into a neural network values that all take wildly different ranges. The network might be able to automatically adapt to such heterogeneous data, but it would definitely make learning more difficult. A widespread best practice to deal with such data is to do feature-wise normalization: for each feature in the input data (a column in the input data matrix), we will subtract the mean of the feature and divide by the standard deviation, so that the feature will be centered around 0 and will have a unit standard deviation.\n",
        "\n",
        "* Adding Dropout\n",
        "\n",
        "    Dropout is one of the most effective and most commonly used regularization techniques for neural networks, developed by Hinton and his students at the University of Toronto. Dropout, applied to a layer, consists of randomly \"dropping out\" (i.e. setting to zero) a number of output features of the layer during training.\n",
        "\n",
        "* Adding Weight Regularization\n",
        "\n",
        "    You may be familiar with Occam's Razor principle: given two explanations for something, the explanation most likely to be correct is the \"simplest\" one, the one that makes the least amount of assumptions. This also applies to the models learned by neural networks: given some training data and a network architecture, there are multiple sets of weights values (multiple models) that could explain the data, and simpler models are less likely to overfit than complex ones.\n",
        "\n",
        "    A \"simple model\" in this context is a model where the distribution of parameter values has less entropy (or a model with fewer parameters altogether, as we saw in the section above). Thus a common way to mitigate overfitting is to put constraints on the complexity of a network by forcing its weights to only take small values, which makes the distribution of weight values more \"regular\". This is called \"weight regularization\", and it is done by adding to the loss function of the network a cost associated with having large weights. This cost comes in two flavors:\n",
        "    * L1 regularization, where the cost added is proportional to the absolute value of the weights coefficients (i.e. to what is called the \"L1 norm\" of the weights).\n",
        "    * L2 regularization, where the cost added is proportional to the square of the value of the weights coefficients (i.e. to what is called the \"L2 norm\" of the weights). L2 regularization is also called weight decay in the context of neural networks. Don't let the different name confuse you: weight decay is mathematically the exact same as L2 regularization.\n",
        "    \n",
        "### Here is the result\n",
        "![](https://iili.io/JEop0x.png)\n",
        "\n",
        "\n",
        "\n",
        "# **Content**\n",
        "\n",
        "1. [Importing the Dataset](#1.)\n",
        "1. [Create Training and Testing Datasets](#2.)\n",
        "1. [Building and Training the Neural Network](#3.)\n",
        "1. [Improving Results - A Binary Classification Problem](#4.)\n",
        "1. [Results and Metrics](#5.)\n"
      ]
    },
    {
      "metadata": {
        "trusted": true,
        "id": "Pcoi4ej2VbpC"
      },
      "cell_type": "code",
      "source": [
        "import sys\n",
        "import pandas as pd\n",
        "import numpy as np\n",
        "import sklearn\n",
        "import matplotlib\n",
        "import keras\n",
        "\n",
        "print('Python: {}'.format(sys.version))\n",
        "print('Pandas: {}'.format(pd.__version__))\n",
        "print('Numpy: {}'.format(np.__version__))\n",
        "print('Sklearn: {}'.format(sklearn.__version__))\n",
        "print('Matplotlib: {}'.format(matplotlib.__version__))\n",
        "print('Keras: {}'.format(keras.__version__))"
      ],
      "execution_count": null,
      "outputs": []
    },
    {
      "metadata": {
        "trusted": true,
        "id": "ce47_UfDVbpD"
      },
      "cell_type": "code",
      "source": [
        "import matplotlib.pyplot as plt\n",
        "from pandas.plotting import scatter_matrix\n",
        "import seaborn as sns"
      ],
      "execution_count": null,
      "outputs": []
    },
    {
      "metadata": {
        "id": "8pbxcFJZVbpD"
      },
      "cell_type": "markdown",
      "source": [
        "<a class=\"anchor\" id=\"1.\"></a>\n",
        "# 1.Importing the Dataset\n",
        "\n",
        "The dataset is available through the University of California, Irvine Machine learning repository. Here is the URL:\n",
        "\n",
        "http:////archive.ics.uci.edu/ml/datasets/Heart+Disease\n",
        "\n",
        "This dataset contains patient data concerning heart disease diagnosis that was collected at several locations around the world. There are 76 attributes, including age, sex, resting blood pressure, cholestoral levels, echocardiogram data, exercise habits, and many others. To data, all published studies using this data focus on a subset of 14 attributes - so we will do the same. More specifically, we will use the data collected at the Cleveland Clinic Foundation.\n",
        "\n",
        "To import the necessary data, we will use pandas' built in read_csv() function. Let's get started!"
      ]
    },
    {
      "metadata": {
        "trusted": true,
        "id": "qEDa8pYXVbpE"
      },
      "cell_type": "code",
      "source": [
        "# read the csv\n",
        "cleveland = pd.read_csv('../input/heart.csv')"
      ],
      "execution_count": null,
      "outputs": []
    },
    {
      "metadata": {
        "trusted": true,
        "id": "agbVy9kJVbpE"
      },
      "cell_type": "code",
      "source": [
        "# print the shape of the DataFrame, so we can see how many examples we have\n",
        "print( 'Shape of DataFrame: {}'.format(cleveland.shape))\n",
        "print (cleveland.loc[1])"
      ],
      "execution_count": null,
      "outputs": []
    },
    {
      "metadata": {
        "trusted": true,
        "id": "91mevzR3VbpE"
      },
      "cell_type": "code",
      "source": [
        "# print the last twenty or so data points\n",
        "cleveland.loc[280:]"
      ],
      "execution_count": null,
      "outputs": []
    },
    {
      "metadata": {
        "trusted": true,
        "id": "7SsDVTr4VbpE"
      },
      "cell_type": "code",
      "source": [
        "# remove missing data (indicated with a \"?\")\n",
        "data = cleveland[~cleveland.isin(['?'])]\n",
        "data.loc[280:]"
      ],
      "execution_count": null,
      "outputs": []
    },
    {
      "metadata": {
        "trusted": true,
        "id": "BJajVPi0VbpF"
      },
      "cell_type": "code",
      "source": [
        "# drop rows with NaN values from DataFrame\n",
        "data = data.dropna(axis=0)\n",
        "data.loc[280:]"
      ],
      "execution_count": null,
      "outputs": []
    },
    {
      "metadata": {
        "trusted": true,
        "id": "IzjXC3e4VbpF"
      },
      "cell_type": "code",
      "source": [
        "# print the shape and data type of the dataframe\n",
        "print(data.shape)\n",
        "print(data.dtypes)"
      ],
      "execution_count": null,
      "outputs": []
    },
    {
      "metadata": {
        "trusted": true,
        "id": "_q16FT2RVbpF"
      },
      "cell_type": "code",
      "source": [
        "# transform data to numeric to enable further analysis\n",
        "data = data.apply(pd.to_numeric)\n",
        "data.dtypes"
      ],
      "execution_count": null,
      "outputs": []
    },
    {
      "metadata": {
        "trusted": true,
        "id": "ZuX1IBzvVbpF"
      },
      "cell_type": "code",
      "source": [
        "# print data characteristics, usings pandas built-in describe() function\n",
        "data.describe()"
      ],
      "execution_count": null,
      "outputs": []
    },
    {
      "metadata": {
        "trusted": true,
        "id": "hy9RR0ZDVbpF"
      },
      "cell_type": "code",
      "source": [
        "# plot histograms for each variable\n",
        "data.hist(figsize = (12, 12))\n",
        "plt.show()"
      ],
      "execution_count": null,
      "outputs": []
    },
    {
      "metadata": {
        "trusted": true,
        "id": "pATtY2fvVbpF"
      },
      "cell_type": "code",
      "source": [
        "pd.crosstab(data.age,data.target).plot(kind=\"bar\",figsize=(20,6))\n",
        "plt.title('Heart Disease Frequency for Ages')\n",
        "plt.xlabel('Age')\n",
        "plt.ylabel('Frequency')\n",
        "plt.show()"
      ],
      "execution_count": null,
      "outputs": []
    },
    {
      "metadata": {
        "trusted": true,
        "id": "HxbnwZhDVbpF"
      },
      "cell_type": "code",
      "source": [
        "plt.figure(figsize=(10,10))\n",
        "sns.heatmap(data.corr(),annot=True,fmt='.1f')\n",
        "plt.show()"
      ],
      "execution_count": null,
      "outputs": []
    },
    {
      "metadata": {
        "trusted": true,
        "id": "yZHi0b-RVbpF"
      },
      "cell_type": "code",
      "source": [
        "age_unique=sorted(data.age.unique())\n",
        "age_thalach_values=data.groupby('age')['thalach'].count().values\n",
        "mean_thalach=[]\n",
        "for i,age in enumerate(age_unique):\n",
        "    mean_thalach.append(sum(data[data['age']==age].thalach)/age_thalach_values[i])\n",
        "\n",
        "plt.figure(figsize=(10,5))\n",
        "sns.pointplot(x=age_unique,y=mean_thalach,color='red',alpha=0.8)\n",
        "plt.xlabel('Age',fontsize = 15,color='blue')\n",
        "plt.xticks(rotation=45)\n",
        "plt.ylabel('Thalach',fontsize = 15,color='blue')\n",
        "plt.title('Age vs Thalach',fontsize = 15,color='blue')\n",
        "plt.grid()\n",
        "plt.show()"
      ],
      "execution_count": null,
      "outputs": []
    },
    {
      "metadata": {
        "id": "vgk_Ev-MVbpG"
      },
      "cell_type": "markdown",
      "source": [
        "<a class=\"anchor\" id=\"2.\"></a>\n",
        "# 2.Create Training and Testing Datasets\n",
        "\n",
        "Now that we have preprocessed the data appropriately, we can split it into training and testings datasets. We will use Sklearn's train_test_split() function to generate a training dataset (80 percent of the total data) and testing dataset (20 percent of the total data).\n"
      ]
    },
    {
      "metadata": {
        "trusted": true,
        "id": "haQS3oQtVbpG"
      },
      "cell_type": "code",
      "source": [
        "X = np.array(data.drop(['target'], 1))\n",
        "y = np.array(data['target'])"
      ],
      "execution_count": null,
      "outputs": []
    },
    {
      "metadata": {
        "trusted": true,
        "id": "W60Iln3mVbpG"
      },
      "cell_type": "code",
      "source": [
        "X[0]"
      ],
      "execution_count": null,
      "outputs": []
    },
    {
      "metadata": {
        "trusted": true,
        "id": "uNM78CWXVbpG"
      },
      "cell_type": "code",
      "source": [
        "mean = X.mean(axis=0)\n",
        "X -= mean\n",
        "std = X.std(axis=0)\n",
        "X /= std"
      ],
      "execution_count": null,
      "outputs": []
    },
    {
      "metadata": {
        "trusted": true,
        "id": "W8FmbjHfVbpG"
      },
      "cell_type": "code",
      "source": [
        "X[0]"
      ],
      "execution_count": null,
      "outputs": []
    },
    {
      "metadata": {
        "trusted": true,
        "id": "Bea3JmMBVbpG"
      },
      "cell_type": "code",
      "source": [
        "# create X and Y datasets for training\n",
        "from sklearn import model_selection\n",
        "\n",
        "X_train, X_test, y_train, y_test = model_selection.train_test_split(X, y, stratify=y, random_state=42, test_size = 0.2)"
      ],
      "execution_count": null,
      "outputs": []
    },
    {
      "metadata": {
        "trusted": true,
        "id": "Vs18YiPAVbpG"
      },
      "cell_type": "code",
      "source": [
        "# convert the data to categorical labels\n",
        "from keras.utils.np_utils import to_categorical\n",
        "\n",
        "Y_train = to_categorical(y_train, num_classes=None)\n",
        "Y_test = to_categorical(y_test, num_classes=None)\n",
        "print (Y_train.shape)\n",
        "print (Y_train[:10])"
      ],
      "execution_count": null,
      "outputs": []
    },
    {
      "metadata": {
        "trusted": true,
        "id": "v2VfW6ZjVbpG"
      },
      "cell_type": "code",
      "source": [
        "X_train[0]"
      ],
      "execution_count": null,
      "outputs": []
    },
    {
      "metadata": {
        "id": "M6cy9i-PVbpG"
      },
      "cell_type": "markdown",
      "source": [
        "<a class=\"anchor\" id=\"3.\"></a>\n",
        "# 3.Building and Training the Neural Network\n",
        "\n",
        "Now that we have our data fully processed and split into training and testing datasets, we can begin building a neural network to solve this classification problem. Using keras, we will define a simple neural network with one hidden layer. Since this is a categorical classification problem, we will use a softmax activation function in the final layer of our network and a categorical_crossentropy loss during our training phase."
      ]
    },
    {
      "metadata": {
        "trusted": true,
        "id": "GOPQf8MQVbpG"
      },
      "cell_type": "code",
      "source": [
        "from keras.models import Sequential\n",
        "from keras.layers import Dense\n",
        "from keras.optimizers import Adam\n",
        "from keras.layers import Dropout\n",
        "from keras import regularizers\n",
        "\n",
        "# define a function to build the keras model\n",
        "def create_model():\n",
        "    # create model\n",
        "    model = Sequential()\n",
        "    model.add(Dense(16, input_dim=13, kernel_initializer='normal', kernel_regularizer=regularizers.l2(0.001), activation='relu'))\n",
        "    model.add(Dropout(0.25))\n",
        "    model.add(Dense(8, kernel_initializer='normal', kernel_regularizer=regularizers.l2(0.001), activation='relu'))\n",
        "    model.add(Dropout(0.25))\n",
        "    model.add(Dense(2, activation='softmax'))\n",
        "\n",
        "    # compile model\n",
        "    adam = Adam(lr=0.001)\n",
        "    model.compile(loss='categorical_crossentropy', optimizer='rmsprop', metrics=['accuracy'])\n",
        "    return model\n",
        "\n",
        "model = create_model()\n",
        "\n",
        "print(model.summary())"
      ],
      "execution_count": null,
      "outputs": []
    },
    {
      "metadata": {
        "trusted": true,
        "id": "Cj1cVHq_VbpG"
      },
      "cell_type": "code",
      "source": [
        "# fit the model to the training data\n",
        "history=model.fit(X_train, Y_train, validation_data=(X_test, Y_test),epochs=50, batch_size=10)"
      ],
      "execution_count": null,
      "outputs": []
    },
    {
      "metadata": {
        "trusted": true,
        "id": "dh573STPVbpG"
      },
      "cell_type": "code",
      "source": [
        "import matplotlib.pyplot as plt\n",
        "%matplotlib inline\n",
        "# Model accuracy\n",
        "plt.plot(history.history['acc'])\n",
        "plt.plot(history.history['val_acc'])\n",
        "plt.title('Model Accuracy')\n",
        "plt.ylabel('accuracy')\n",
        "plt.xlabel('epoch')\n",
        "plt.legend(['train', 'test'])\n",
        "plt.show()"
      ],
      "execution_count": null,
      "outputs": []
    },
    {
      "metadata": {
        "trusted": true,
        "id": "W9hxPntEVbpG"
      },
      "cell_type": "code",
      "source": [
        "# Model Losss\n",
        "plt.plot(history.history['loss'])\n",
        "plt.plot(history.history['val_loss'])\n",
        "plt.title('Model Loss')\n",
        "plt.ylabel('loss')\n",
        "plt.xlabel('epoch')\n",
        "plt.legend(['train', 'test'])\n",
        "plt.show()"
      ],
      "execution_count": null,
      "outputs": []
    },
    {
      "metadata": {
        "id": "59H-JzHUVbpG"
      },
      "cell_type": "markdown",
      "source": [
        "<a class=\"anchor\" id=\"4.\"></a>\n",
        "# 4.Improving Results - A Binary Classification Problem\n",
        "\n",
        "Although we achieved promising results, we still have a fairly large error. This could be because it is very difficult to distinguish between the different severity levels of heart disease (classes 1 - 4). Let's simplify the problem by converting the data to a binary classification problem - heart disease or no heart disease."
      ]
    },
    {
      "metadata": {
        "trusted": true,
        "id": "XKKbb3nyVbpG"
      },
      "cell_type": "code",
      "source": [
        "# convert into binary classification problem - heart disease or no heart disease\n",
        "Y_train_binary = y_train.copy()\n",
        "Y_test_binary = y_test.copy()\n",
        "\n",
        "Y_train_binary[Y_train_binary > 0] = 1\n",
        "Y_test_binary[Y_test_binary > 0] = 1\n",
        "\n",
        "print(Y_train_binary[:20])"
      ],
      "execution_count": null,
      "outputs": []
    },
    {
      "metadata": {
        "trusted": true,
        "id": "Ui77deyuVbpG"
      },
      "cell_type": "code",
      "source": [
        "# define a new keras model for binary classification\n",
        "def create_binary_model():\n",
        "    # create model\n",
        "    model = Sequential()\n",
        "    model.add(Dense(16, input_dim=13, kernel_initializer='normal',  kernel_regularizer=regularizers.l2(0.001),activation='relu'))\n",
        "    model.add(Dropout(0.25))\n",
        "    model.add(Dense(8, kernel_initializer='normal',  kernel_regularizer=regularizers.l2(0.001),activation='relu'))\n",
        "    model.add(Dropout(0.25))\n",
        "    model.add(Dense(1, activation='sigmoid'))\n",
        "\n",
        "    # Compile model\n",
        "    adam = Adam(lr=0.001)\n",
        "    model.compile(loss='binary_crossentropy', optimizer='rmsprop', metrics=['accuracy'])\n",
        "    return model\n",
        "\n",
        "binary_model = create_binary_model()\n",
        "\n",
        "print(binary_model.summary())"
      ],
      "execution_count": null,
      "outputs": []
    },
    {
      "metadata": {
        "trusted": true,
        "id": "yOHmCwurVbpG"
      },
      "cell_type": "code",
      "source": [
        "# fit the binary model on the training data\n",
        "history=binary_model.fit(X_train, Y_train_binary, validation_data=(X_test, Y_test_binary), epochs=50, batch_size=10)"
      ],
      "execution_count": null,
      "outputs": []
    },
    {
      "metadata": {
        "trusted": true,
        "id": "BcUONdP6VbpG"
      },
      "cell_type": "code",
      "source": [
        "import matplotlib.pyplot as plt\n",
        "%matplotlib inline\n",
        "# Model accuracy\n",
        "plt.plot(history.history['acc'])\n",
        "plt.plot(history.history['val_acc'])\n",
        "plt.title('Model Accuracy')\n",
        "plt.ylabel('accuracy')\n",
        "plt.xlabel('epoch')\n",
        "plt.legend(['train', 'test'])\n",
        "plt.show()"
      ],
      "execution_count": null,
      "outputs": []
    },
    {
      "metadata": {
        "trusted": true,
        "id": "f6l0EukkVbpH"
      },
      "cell_type": "code",
      "source": [
        "# Model Losss\n",
        "plt.plot(history.history['loss'])\n",
        "plt.plot(history.history['val_loss'])\n",
        "plt.title('Model Loss')\n",
        "plt.ylabel('loss')\n",
        "plt.xlabel('epoch')\n",
        "plt.legend(['train', 'test'])\n",
        "plt.show()"
      ],
      "execution_count": null,
      "outputs": []
    },
    {
      "metadata": {
        "id": "k7IbTbSwVbpH"
      },
      "cell_type": "markdown",
      "source": [
        "<a class=\"anchor\" id=\"5.\"></a>\n",
        "# 5.Results and Metrics\n",
        "\n",
        "The accuracy results we have been seeing are for the training data, but what about the testing dataset? If our model's cannot generalize to data that wasn't used to train them, they won't provide any utility.\n",
        "\n",
        "Let's test the performance of both our categorical model and binary model.  To do this, we will make predictions on the training dataset and calculate performance metrics using Sklearn."
      ]
    },
    {
      "metadata": {
        "trusted": true,
        "id": "LILsk8_eVbpH"
      },
      "cell_type": "code",
      "source": [
        "# generate classification report using predictions for categorical model\n",
        "from sklearn.metrics import classification_report, accuracy_score\n",
        "\n",
        "categorical_pred = np.argmax(model.predict(X_test), axis=1)\n",
        "\n",
        "print('Results for Categorical Model')\n",
        "print(accuracy_score(y_test, categorical_pred))\n",
        "print(classification_report(y_test, categorical_pred))"
      ],
      "execution_count": null,
      "outputs": []
    },
    {
      "metadata": {
        "trusted": true,
        "id": "6Q5hSU9-VbpH"
      },
      "cell_type": "code",
      "source": [
        "# generate classification report using predictions for binary model\n",
        "from sklearn.metrics import classification_report, accuracy_score\n",
        "# generate classification report using predictions for binary model\n",
        "binary_pred = np.round(binary_model.predict(X_test)).astype(int)\n",
        "\n",
        "print('Results for Binary Model')\n",
        "print(accuracy_score(Y_test_binary, binary_pred))\n",
        "print(classification_report(Y_test_binary, binary_pred))"
      ],
      "execution_count": null,
      "outputs": []
    }
  ],
  "metadata": {
    "kernelspec": {
      "language": "python",
      "display_name": "Python 3",
      "name": "python3"
    },
    "language_info": {
      "pygments_lexer": "ipython3",
      "nbconvert_exporter": "python",
      "version": "3.6.4",
      "file_extension": ".py",
      "codemirror_mode": {
        "name": "ipython",
        "version": 3
      },
      "name": "python",
      "mimetype": "text/x-python"
    },
    "colab": {
      "name": "Heart Disease Prediction using Neural Networks",
      "provenance": [],
      "include_colab_link": true
    }
  },
  "nbformat": 4,
  "nbformat_minor": 0
}